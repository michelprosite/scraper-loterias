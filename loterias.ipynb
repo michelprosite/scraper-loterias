{
 "cells": [
  {
   "cell_type": "markdown",
   "metadata": {},
   "source": []
  },
  {
   "cell_type": "code",
   "execution_count": 2,
   "metadata": {},
   "outputs": [],
   "source": [
    "import pandas as pd\n",
    "import numpy as np\n",
    "from bs4 import BeautifulSoup\n",
    "from urllib.request import urlopen, Request\n",
    "from datetime import date"
   ]
  },
  {
   "cell_type": "code",
   "execution_count": 3,
   "metadata": {},
   "outputs": [],
   "source": [
    "u = 'https://asloterias.com.br/resultados-da-mega-sena-'\n",
    "html_list = []\n",
    "ano = 1996\n",
    "data = date.today().year\n",
    "for p in range(1, (2022 - 1996)):\n",
    "    lista=[]\n",
    "    req = Request(u + str(ano + p), headers={'User-Agent': 'Mozilla/5.0'})\n",
    "    html = urlopen(req)\n",
    "    site = BeautifulSoup(html.read(), 'html.parser')\n",
    "    lista.append(site.find_all('span', {'class': 'dezenas dezenas_mega'}))\n",
    "    html_list.append(lista)"
   ]
  },
  {
   "cell_type": "code",
   "execution_count": 4,
   "metadata": {},
   "outputs": [],
   "source": [
    "lista = []\n",
    "for a in range(len(html_list)):\n",
    "    for i in html_list[a][0]:\n",
    "        lista.append(i.text)"
   ]
  },
  {
   "attachments": {},
   "cell_type": "markdown",
   "metadata": {},
   "source": [
    "### Compondo lista aleatória com todos os números mais sorteados"
   ]
  },
  {
   "attachments": {},
   "cell_type": "markdown",
   "metadata": {},
   "source": [
    "> As apostas na Mega Sena são realizadas de 6 a 15 numeros escolhidos pelo apostador.\n",
    "\n",
    "> Assim sendo, descreva na variável \"total_numeros\" a quantidade de números que deseja apostar.\n",
    "\n",
    "> Na variável \"mais_sorteados\" declare o total de numeros que mais apareceram em sorteios. "
   ]
  },
  {
   "cell_type": "code",
   "execution_count": 5,
   "metadata": {},
   "outputs": [
    {
     "ename": "NameError",
     "evalue": "name 'random' is not defined",
     "output_type": "error",
     "traceback": [
      "\u001b[0;31m---------------------------------------------------------------------------\u001b[0m",
      "\u001b[0;31mNameError\u001b[0m                                 Traceback (most recent call last)",
      "\u001b[1;32m/home/kali/Documentos/scraper-loterias/loterias.ipynb Célula 7\u001b[0m in \u001b[0;36m6\n\u001b[1;32m      <a href='vscode-notebook-cell:/home/kali/Documentos/scraper-loterias/loterias.ipynb#W6sZmlsZQ%3D%3D?line=3'>4</a>\u001b[0m list_num \u001b[39m=\u001b[39m []\n\u001b[1;32m      <a href='vscode-notebook-cell:/home/kali/Documentos/scraper-loterias/loterias.ipynb#W6sZmlsZQ%3D%3D?line=4'>5</a>\u001b[0m \u001b[39mwhile\u001b[39;00m \u001b[39mlen\u001b[39m(list_num) \u001b[39m<\u001b[39m total_numeros:\n\u001b[0;32m----> <a href='vscode-notebook-cell:/home/kali/Documentos/scraper-loterias/loterias.ipynb#W6sZmlsZQ%3D%3D?line=5'>6</a>\u001b[0m     n \u001b[39m=\u001b[39m \u001b[39mint\u001b[39m(random\u001b[39m.\u001b[39mchoice(lista))\n\u001b[1;32m      <a href='vscode-notebook-cell:/home/kali/Documentos/scraper-loterias/loterias.ipynb#W6sZmlsZQ%3D%3D?line=6'>7</a>\u001b[0m     \u001b[39mif\u001b[39;00m n \u001b[39mnot\u001b[39;00m \u001b[39min\u001b[39;00m list_num:\n\u001b[1;32m      <a href='vscode-notebook-cell:/home/kali/Documentos/scraper-loterias/loterias.ipynb#W6sZmlsZQ%3D%3D?line=7'>8</a>\u001b[0m         list_num\u001b[39m.\u001b[39mappend(\u001b[39mint\u001b[39m(n))\n",
      "\u001b[0;31mNameError\u001b[0m: name 'random' is not defined"
     ]
    }
   ],
   "source": [
    "total_numeros = 15\n",
    "mais_sorteados = 30\n",
    "\n",
    "list_num = []\n",
    "while len(list_num) < total_numeros:\n",
    "    n = int(random.choice(lista))\n",
    "    if n not in list_num:\n",
    "        list_num.append(int(n))\n",
    "print(list_num)    "
   ]
  },
  {
   "attachments": {},
   "cell_type": "markdown",
   "metadata": {},
   "source": [
    "### Limitando o total de números mais sorteados por ordem do que mais foram sorteados para os que menos apareceram."
   ]
  },
  {
   "attachments": {},
   "cell_type": "markdown",
   "metadata": {},
   "source": [
    "> Esse passo \"aumenta\" significativamente a probabilidade de acerto."
   ]
  },
  {
   "cell_type": "code",
   "execution_count": 3,
   "metadata": {},
   "outputs": [
    {
     "ename": "NameError",
     "evalue": "name 'lista' is not defined",
     "output_type": "error",
     "traceback": [
      "\u001b[0;31m---------------------------------------------------------------------------\u001b[0m",
      "\u001b[0;31mNameError\u001b[0m                                 Traceback (most recent call last)",
      "\u001b[1;32m/home/kali/Documentos/scraper-loterias/loterias.ipynb Célula 10\u001b[0m in \u001b[0;36m4\n\u001b[1;32m      <a href='vscode-notebook-cell:/home/kali/Documentos/scraper-loterias/loterias.ipynb#X12sZmlsZQ%3D%3D?line=0'>1</a>\u001b[0m total_numeros \u001b[39m=\u001b[39m \u001b[39m15\u001b[39m\n\u001b[1;32m      <a href='vscode-notebook-cell:/home/kali/Documentos/scraper-loterias/loterias.ipynb#X12sZmlsZQ%3D%3D?line=1'>2</a>\u001b[0m mais_sorteados \u001b[39m=\u001b[39m \u001b[39m3\u001b[39m\n\u001b[0;32m----> <a href='vscode-notebook-cell:/home/kali/Documentos/scraper-loterias/loterias.ipynb#X12sZmlsZQ%3D%3D?line=3'>4</a>\u001b[0m n \u001b[39m=\u001b[39m \u001b[39menumerate\u001b[39m(lista)\n\u001b[1;32m      <a href='vscode-notebook-cell:/home/kali/Documentos/scraper-loterias/loterias.ipynb#X12sZmlsZQ%3D%3D?line=4'>5</a>\u001b[0m df \u001b[39m=\u001b[39m pd\u001b[39m.\u001b[39mDataFrame(\u001b[39mlist\u001b[39m(n))\n\u001b[1;32m      <a href='vscode-notebook-cell:/home/kali/Documentos/scraper-loterias/loterias.ipynb#X12sZmlsZQ%3D%3D?line=5'>6</a>\u001b[0m num \u001b[39m=\u001b[39m df\u001b[39m.\u001b[39mvalue_counts(df[\u001b[39m1\u001b[39m])\u001b[39m.\u001b[39mhead(mais_sorteados)\n",
      "\u001b[0;31mNameError\u001b[0m: name 'lista' is not defined"
     ]
    }
   ],
   "source": [
    "total_numeros = 15\n",
    "mais_sorteados = 3\n",
    "\n",
    "n = enumerate(lista)\n",
    "df = pd.DataFrame(list(n))\n",
    "num = df.value_counts(df[1]).head(mais_sorteados)\n",
    "num = pd.DataFrame(num)\n",
    "num = num.reset_index()\n",
    "\n",
    "list_num=[]\n",
    "if total_numeros > mais_sorteados:\n",
    "    print(\"O total de números é menor que os mais sorteados... Não foi possível realizar o sorteio!\")\n",
    "else:\n",
    "    limite = total_numeros\n",
    "    while len(list_num) < limite:\n",
    "        n = int(num[1].sample())\n",
    "        if n not in list_num:\n",
    "            list_num.append(int(n))\n",
    "\n",
    "    print(list_num) "
   ]
  },
  {
   "cell_type": "code",
   "execution_count": 2,
   "metadata": {},
   "outputs": [
    {
     "ename": "NameError",
     "evalue": "name 'num' is not defined",
     "output_type": "error",
     "traceback": [
      "\u001b[0;31m---------------------------------------------------------------------------\u001b[0m",
      "\u001b[0;31mNameError\u001b[0m                                 Traceback (most recent call last)",
      "\u001b[1;32m/home/kali/Documentos/scraper-loterias/loterias.ipynb Célula 11\u001b[0m in \u001b[0;36m1\n\u001b[0;32m----> <a href='vscode-notebook-cell:/home/kali/Documentos/scraper-loterias/loterias.ipynb#X13sZmlsZQ%3D%3D?line=0'>1</a>\u001b[0m num\n",
      "\u001b[0;31mNameError\u001b[0m: name 'num' is not defined"
     ]
    }
   ],
   "source": [
    "num"
   ]
  },
  {
   "attachments": {},
   "cell_type": "markdown",
   "metadata": {},
   "source": [
    "04 12 14 41 46 53"
   ]
  }
 ],
 "metadata": {
  "kernelspec": {
   "display_name": "Python 3",
   "language": "python",
   "name": "python3"
  },
  "language_info": {
   "codemirror_mode": {
    "name": "ipython",
    "version": 3
   },
   "file_extension": ".py",
   "mimetype": "text/x-python",
   "name": "python",
   "nbconvert_exporter": "python",
   "pygments_lexer": "ipython3",
   "version": "3.11.2"
  },
  "orig_nbformat": 4
 },
 "nbformat": 4,
 "nbformat_minor": 2
}
